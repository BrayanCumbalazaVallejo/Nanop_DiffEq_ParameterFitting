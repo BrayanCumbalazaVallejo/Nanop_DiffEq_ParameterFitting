{
 "cells": [
  {
   "cell_type": "code",
   "execution_count": 8,
   "id": "0ee105d9",
   "metadata": {},
   "outputs": [
    {
     "name": "stdout",
     "output_type": "stream",
     "text": [
      "📊 Análisis de Probabilidad para el año: 2000\n",
      "\n",
      "a. Probabilidad de que la esperanza de vida > 70 años:\n",
      "   P(esperanza_vida > 70) = 52.57%\n",
      "\n",
      "b. Probabilidad de que el índice de desarrollo humano <= 0.8:\n",
      "   P(indice_DH <= 0.8) = 76.57%\n",
      "\n",
      "c. Si el consumo de CO2 > 1.0, ¿cuál es la probabilidad de que la esperanza de vida > 75 años?\n",
      "   P(esperanza_vida > 75 | consumo_CO2 > 1.0) = 35.24%\n",
      "\n",
      "d. Si el PIB per cápita > 10000, ¿cuál es la probabilidad de que el % en servicios > 70%?\n",
      "   P(servicios > 70 | pib_percapita > 10000) = 51.16%\n",
      "\n"
     ]
    }
   ],
   "source": [
    "import pandas as pd\n",
    "\n",
    "ruta_excel = '../files/input/gap.xlsx'\n",
    "df = pd.read_excel(ruta_excel)\n",
    "\n",
    "anio_seleccionado = 2000\n",
    "df_anio = df[df['año'] == anio_seleccionado].copy()\n",
    "\n",
    "print(f\"📊 Análisis de Probabilidad para el año: {anio_seleccionado}\\n\")\n",
    "\n",
    "total_paises = len(df_anio)\n",
    "\n",
    "if total_paises > 0:\n",
    "    prob_a = len(df_anio[df_anio['esperanza_vida'] > 70]) / total_paises\n",
    "    print(f\"a. Probabilidad de que la esperanza de vida > 70 años:\")\n",
    "    print(f\"   P(esperanza_vida > 70) = {prob_a:.2%}\\n\")\n",
    "\n",
    "    prob_b = len(df_anio[df_anio['indice_DH'] <= 0.8]) / total_paises\n",
    "    print(f\"b. Probabilidad de que el índice de desarrollo humano <= 0.8:\")\n",
    "    print(f\"   P(indice_DH <= 0.8) = {prob_b:.2%}\\n\")\n",
    "\n",
    "    df_condicion_co2 = df_anio[df_anio['consumo_CO2'] > 1.0]\n",
    "    print(\"c. Si el consumo de CO2 > 1.0, ¿cuál es la probabilidad de que la esperanza de vida > 75 años?\")\n",
    "    if not df_condicion_co2.empty:\n",
    "        prob_c = len(df_condicion_co2[df_condicion_co2['esperanza_vida'] > 75]) / len(df_condicion_co2)\n",
    "        print(f\"   P(esperanza_vida > 75 | consumo_CO2 > 1.0) = {prob_c:.2%}\\n\")\n",
    "    else:\n",
    "        print(\"   No hay países que cumplan la condición para calcular esta probabilidad.\\n\")\n",
    "\n",
    "    df_condicion_pib = df_anio[df_anio['pib_percapita'] > 10000]\n",
    "    print(\"d. Si el PIB per cápita > 10000, ¿cuál es la probabilidad de que el % en servicios > 70%?\")\n",
    "    if not df_condicion_pib.empty:\n",
    "        prob_d = len(df_condicion_pib[df_condicion_pib['servicios'] > 70]) / len(df_condicion_pib)\n",
    "        print(f\"   P(servicios > 70 | pib_percapita > 10000) = {prob_d:.2%}\\n\")\n",
    "    else:\n",
    "        print(\"   No hay países que cumplan la condición para calcular esta probabilidad.\\n\")\n",
    "else:\n",
    "    print(f\"No se encontraron datos para el año {anio_seleccionado}.\")"
   ]
  }
 ],
 "metadata": {
  "kernelspec": {
   "display_name": ".venv",
   "language": "python",
   "name": "python3"
  },
  "language_info": {
   "codemirror_mode": {
    "name": "ipython",
    "version": 3
   },
   "file_extension": ".py",
   "mimetype": "text/x-python",
   "name": "python",
   "nbconvert_exporter": "python",
   "pygments_lexer": "ipython3",
   "version": "3.10.10"
  }
 },
 "nbformat": 4,
 "nbformat_minor": 5
}
